{
 "cells": [
  {
   "cell_type": "code",
   "execution_count": null,
   "id": "9746a73c-6ba4-4780-a3b2-8483f9f4ed36",
   "metadata": {},
   "outputs": [],
   "source": [
    "##Fetching data"
   ]
  }
 ],
 "metadata": {
  "kernelspec": {
   "display_name": "Python 3 (ipykernel)",
   "language": "python",
   "name": "python3"
  },
  "language_info": {
   "codemirror_mode": {
    "name": "ipython",
    "version": 3
   },
   "file_extension": ".py",
   "mimetype": "text/x-python",
   "name": "python",
   "nbconvert_exporter": "python",
   "pygments_lexer": "ipython3",
   "version": "3.12.3"
  }
 },
 "nbformat": 4,
 "nbformat_minor": 5
}
